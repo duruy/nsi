{
 "cells": [
  {
   "cell_type": "markdown",
   "metadata": {
    "colab_type": "text",
    "id": "fsyIe58znvVP"
   },
   "source": [
    "# REPRESENTATION BINAIRE D'UN ENTIER RELATIF\n",
    "\n",
    "Nous avons déjà vu comment représenter les entiers positifs, nous allons maintenant nous intéresser aux entiers relatifs.\n",
    "\n",
    "## 1. Problème du zéro\n",
    "\n",
    "La première idée qui pourrait nous venir à l'esprit est, sur un nombre comportant n bits, d'utiliser 1 bit pour représenter le signe et n-1 bit pour représenter la valeur absolue du nombre à représenter. Le bit de signe étant le bit dit \"de poids fort\" (c'est à dire le bit le plus à gauche), ce bit de poids fort serait à 0 dans le cas d'un nombre positif et à 1 dans le cas d'un nombre négatif.\n",
    "\n",
    "Exemple : on représente l'entier 5 sur 8 bits par $00000101_2$, -5 serait donc représenté par $10000101_2$\n",
    "\n",
    "**C'est à vous de jouer:**\n",
    "\n",
    "En utilisant la méthode décrite ci-dessus, représentez -15 (représentation sur 8 bits).\n",
    "\n"
   ]
  },
  {
   "cell_type": "markdown",
   "metadata": {
    "colab_type": "text",
    "id": "FjF7NMfcpNr4"
   },
   "source": [
    "**Réponse:**   \n",
    "\n",
    "\n",
    "\n",
    "\n"
   ]
  },
  {
   "cell_type": "markdown",
   "metadata": {
    "colab_type": "text",
    "id": "N5d97N-4pOEu"
   },
   "source": [
    "**problème:** Il existe un énorme inconvénient à cette méthode : l'existence de deux zéros, un zéro positif (00000000) et un zéro négatif (10000000) !\n",
    "\n",
    "Nous allons donc devoir utiliser une autre méthode : le complément à deux\n",
    "\n",
    "\n",
    "## 2. Le complément à deux\n",
    "\n",
    "Avant de représenter un entier relatif, il est nécessaire de définir le nombre de bits qui seront utilisés pour cette représentation (souvent 8, 16 , 32 ou 64 bits)\n",
    "\n",
    "Prenons tout de suite un exemple : déterminons la représentation de -12 sur 8 bits\n",
    "\n",
    "* Commençons par représenter 12 sur 8 bits (sachant que pour représenter 12 en binaire seuls 4 bits sont nécessaire, les 4 bits les plus à gauche seront à 0) : $00001100_2$\n",
    "* Inversons tous les bits (les bits à 1 passent à 0 et vice versa) : $11110011_2$ , cela revient à faire un NON logique, nous y reviendrons.\n",
    "* Ajoutons 1 au nombre obtenu à l'étape précédente *les retenues sont notées en rouge*:\n",
    "\n",
    "<center>\n",
    "    \n",
    "![calcul](https://pixees.fr/informatiquelycee/n_site/img/nsi_nbre_sign_1.png)\n",
    "    \n",
    "\n",
    "</center>\n",
    "\n",
    "\n",
    "* La représentation de -12 sur 8 bits est donc : $11110100_2$\n",
    "\n",
    "Comment peut-on être sûr que $11110100_2$ est bien la représentation de -12 ?\n",
    "\n",
    "Nous pouvons affirmer sans trop de risque de nous tromper que 12 + (-12) = 0, vérifions que cela est vrai pour notre représentation sur 8 bits.\n",
    "\n",
    "<center>\n",
    "    \n",
    "![calcul](https://pixees.fr/informatiquelycee/n_site/img/nsi_nbre_sign_2.png)\n",
    "\n",
    "</center>\n",
    "\n",
    "Dans l'opération ci-dessus, nous avons un 1 pour le 9e bit, mais comme notre représentation se limite à 8 bits, il nous reste bien 00000000.\n",
    "\n",
    "\n",
    "**C'est à vous de jouer 2**\n",
    "\n",
    "En utilisant le complément à 2, représentez -15 (représentation sur 8 bits)\n",
    "\n"
   ]
  },
  {
   "cell_type": "markdown",
   "metadata": {
    "colab_type": "text",
    "id": "pWwLHqaURSW8"
   },
   "source": [
    "**Réponse** *(écrire la réponse dans cette cellule)*"
   ]
  },
  {
   "cell_type": "markdown",
   "metadata": {
    "colab_type": "text",
    "id": "sQmiwfhTnm1Z"
   },
   "source": [
    "Il faut noter qu'il est facile de déterminer si une représentation correspond à un entier positif ou un entier négatif : si le bit de poids fort est à 1, nous avons affaire à un entier négatif, si le bit de poids fort est à 0, nous avons affaire à un entier positif.\n",
    "\n",
    "\n",
    "\n",
    "**C'est à vous de jouer 3**\n",
    "\n",
    "Représentez sur 8 bits l'entier 4 puis représentez, toujours sur 8 bits, l'entier -5. Additionnez ces 2 nombres (en utilisant les représentations binaires bien évidemment), vérifiez que vous obtenez bien -1.\n",
    "\n"
   ]
  },
  {
   "cell_type": "markdown",
   "metadata": {
    "colab_type": "text",
    "id": "QOWM-0DuRnAg"
   },
   "source": [
    "**Réponse** *(écrire la réponse dans cette cellule)*"
   ]
  },
  {
   "cell_type": "markdown",
   "metadata": {
    "colab_type": "text",
    "id": "O_HdYUeXRnGH"
   },
   "source": [
    "\n",
    "\n",
    "**C'est à vous de jouer 4**\n",
    "\n",
    "Quel est le plus petit entier négatif que l'on peut représenter sur 8 bits ?\n",
    "\n"
   ]
  },
  {
   "cell_type": "markdown",
   "metadata": {
    "colab_type": "text",
    "id": "smp3K_r9RyRX"
   },
   "source": [
    "** Réponse** *(écrire la réponse dans cette cellule)*"
   ]
  },
  {
   "cell_type": "markdown",
   "metadata": {
    "colab_type": "text",
    "id": "8PuYaHnaRyYP"
   },
   "source": [
    "\n",
    "**C'est à vous de jouer 5**\n",
    "\n",
    "Quel est le plus grand entier positif que l'on peut représenter sur 8 bits ?\n",
    "\n"
   ]
  },
  {
   "cell_type": "markdown",
   "metadata": {
    "colab_type": "text",
    "id": "QQo5fllcSiFr"
   },
   "source": [
    "**Réponse** *(écrire la réponse dans cette cellule)*"
   ]
  },
  {
   "cell_type": "markdown",
   "metadata": {
    "colab_type": "text",
    "id": "wqenQGVASS2O"
   },
   "source": [
    "\n",
    "\n",
    "**C'est à vous de jouer 6**\n",
    "\n",
    "Entre quelles  valeurs peut-on coder un  entier relatif codé sur 16 bits ?\n",
    "\n"
   ]
  },
  {
   "cell_type": "markdown",
   "metadata": {
    "colab_type": "text",
    "id": "g2Tqo4MSSSuf"
   },
   "source": [
    "**Réponse** *(écrire la réponse dans cette cellule)*"
   ]
  },
  {
   "cell_type": "markdown",
   "metadata": {},
   "source": [
    "**Vous retiendrez:**\n",
    "\n",
    "\n",
    "Dans le cas général, nous pouvons dire que pour une représentation sur n bits, il sera possible de coder des valeurs comprises entre $-2^{n-1}$ et $+2^{n-1} - 1$."
   ]
  },
  {
   "cell_type": "markdown",
   "metadata": {
    "colab_type": "text",
    "id": "wZ0IE4MZVvsu"
   },
   "source": [
    "## 3. Un mot sur les entiers de taille arbitraire##\n",
    "\n",
    "Certains langages de programmation déterminent un éventuel dépassement de capacité, mais qu'en est-il de Python?\n",
    "\n",
    "Pour cela testons-le!On peut coder au maximum sur 64 bits.\n",
    "\n",
    "On prend alors le plus grand entier (relatif) positif que l'on peut coder sur 64 bits (8 octets):\n",
    "On sait d'après ce qui précède que c'est $2^{63}-1$, ou encore $01111......111111_2$ (avec 63 \"1\").\n",
    "\n",
    "Convertissons ce nombre en héxadécimal pour qu'il soit plus court et utilisable dans Python:\n",
    "on obtient $7FFFFFFFFFFFFFFF_{16}$ auquel il faut ajouter le préfixe `0x` pour indiquer à l'interpréteur que nous travaillons en héxadécimal.  \n",
    "Vérifions:"
   ]
  },
  {
   "cell_type": "code",
   "execution_count": 3,
   "metadata": {},
   "outputs": [
    {
     "name": "stdout",
     "output_type": "stream",
     "text": [
      "9223372036854775807\n"
     ]
    }
   ],
   "source": [
    "nombremax=0x7fffffffffffffff\n",
    "print(nombremax)"
   ]
  },
  {
   "cell_type": "markdown",
   "metadata": {},
   "source": [
    "En théorie c'est le plus grand entier relatif que l'on peut coder sur 64 bits. \n",
    "\n",
    "Ainsi, si l'on demande d'afficher nombremax+1, on devrait avoir une erreur.  \n",
    "Testons le:"
   ]
  },
  {
   "cell_type": "code",
   "execution_count": 4,
   "metadata": {},
   "outputs": [
    {
     "name": "stdout",
     "output_type": "stream",
     "text": [
      "9223372036854775808\n"
     ]
    }
   ],
   "source": [
    "nombremax=0x7fffffffffffffff\n",
    "nombremax=nombremax+1\n",
    "print(nombremax)"
   ]
  },
  {
   "cell_type": "markdown",
   "metadata": {},
   "source": [
    "Tout se passe comme si nombremax n'était pas le plus grand entier.   \n",
    "En fait, Python a détecté le dépassement de capacité mais la représentation des entiers change pour adopter la représentation sous forme dite des entiers longs.   \n",
    "Contrairement au complément à deux, cette représentation n’est pas limitée en taille. Cela présente bien\n",
    "évidemment des avantages, mais aussi des inconvénients : les opérations sur les entiers longs prennent plus de\n",
    "temps que sur les entiers classiques.   \n",
    "Nous n’aborderons pas le problème de la représentation interne des entiers\n",
    "longs, plus complexe que la représentation par complément à deux."
   ]
  },
  {
   "cell_type": "markdown",
   "metadata": {},
   "source": [
    "## 4. Addition de deux entiers relatifs##\n",
    "\n",
    "La première conséquence de la représentation par complément à deux est que tout entier entre\n",
    "$-2^{n-1}$ et $2^{n-1}$  possède une unique représentation.  \n",
    "Mais l’intérêt majeur n’est pas là : nous allons le constater\n",
    "qu’additionner deux nombres relatifs revient à additionner leurs représentations en ne gardant que les n bits de\n",
    "poids faible.  \n",
    "Avant de le justifier, illustrons ce résultat en calculant la somme de -91 et de 113 avec un codage sur 8 bits (on\n",
    "a $2^8$ = 256 ; les nombres représentables sont compris entre -128 et 127).\n",
    "  \n",
    "  -91 est négatif donc il est représenté par son complément à deux 256 - 91 = 165 = $10100101_2$.\n",
    "  \n",
    "  113 est positif donc il est représenté par sa décomposition en base 2 : 113 = $01110001_2$.\n",
    "  \n",
    "  On additionne ces deux représentations :\n",
    "  \n",
    "  <center>\n",
    "    \n",
    "![calcul](https://pixees.fr/informatiquelycee/n_site/img/nsi_nbre_sign_1.png)\n",
    "    \n",
    "\n",
    "</center>\n",
    "\n",
    "On ne garde que les 8 derniers bits, à savoir $00010110_2$ ; le premier bit est un 0 donc le résultat de la somme est\n",
    "positif.  \n",
    "Il représente donc l’entier $10110_2$ = 22, qui est bien le résultat de l’addition de -91 avec 113.  \n",
    "Magique non?\n",
    "\n",
    "\n",
    "Pour la soustraction, rien de plus facile: vous savez calculer l'opposé d'un nombre en binaire et il suffit alors de remarquer que a-b=a+(-b).  \n",
    "\n",
    "**C'est à vous de jouer**\n",
    "\n",
    "Vérifiez en faisant 113-91 (demandez à l'enseignant de vérifier)\n"
   ]
  }
 ],
 "metadata": {
  "colab": {
   "collapsed_sections": [],
   "name": "4 - NSI - 1ère - Représentation binaire d'un entier relatif.ipynb",
   "provenance": [],
   "version": "0.3.2"
  },
  "kernelspec": {
   "display_name": "Python 3",
   "language": "python",
   "name": "python3"
  },
  "language_info": {
   "codemirror_mode": {
    "name": "ipython",
    "version": 3
   },
   "file_extension": ".py",
   "mimetype": "text/x-python",
   "name": "python",
   "nbconvert_exporter": "python",
   "pygments_lexer": "ipython3",
   "version": "3.7.3"
  }
 },
 "nbformat": 4,
 "nbformat_minor": 1
}
